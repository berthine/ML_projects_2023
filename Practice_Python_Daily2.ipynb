{
  "nbformat": 4,
  "nbformat_minor": 0,
  "metadata": {
    "colab": {
      "provenance": [],
      "authorship_tag": "ABX9TyN+TKgJgggJpbWRN4J5ExMn",
      "include_colab_link": true
    },
    "kernelspec": {
      "name": "python3",
      "display_name": "Python 3"
    },
    "language_info": {
      "name": "python"
    }
  },
  "cells": [
    {
      "cell_type": "markdown",
      "metadata": {
        "id": "view-in-github",
        "colab_type": "text"
      },
      "source": [
        "<a href=\"https://colab.research.google.com/github/berthine/ML_projects_2023/blob/main/Practice_Python_Daily2.ipynb\" target=\"_parent\"><img src=\"https://colab.research.google.com/assets/colab-badge.svg\" alt=\"Open In Colab\"/></a>"
      ]
    },
    {
      "cell_type": "markdown",
      "source": [
        "## List, tuple and dictionary\n",
        "\n",
        "##Use of lambda function"
      ],
      "metadata": {
        "id": "2Ngd-3qclHPv"
      }
    },
    {
      "cell_type": "code",
      "execution_count": 5,
      "metadata": {
        "colab": {
          "base_uri": "https://localhost:8080/"
        },
        "id": "8tQE7-utgHRL",
        "outputId": "7db32c1a-6ef9-44b1-9be7-650d240a23fa"
      },
      "outputs": [
        {
          "output_type": "stream",
          "name": "stdout",
          "text": [
            "[('2', 2), ('1', 3), ('3', 5)]\n"
          ]
        }
      ],
      "source": [
        "my_dict = {'1':3, '2':2, '3':5}\n",
        "items = my_dict.items()\n",
        "result = sorted(items, key=lambda x:x[1])\n",
        "print(result)"
      ]
    },
    {
      "cell_type": "code",
      "source": [
        "a='python'\n",
        "b=[1,2,3]\n",
        "atup = (a,b)\n",
        "print(atup[1][1:])"
      ],
      "metadata": {
        "colab": {
          "base_uri": "https://localhost:8080/"
        },
        "id": "iki2zVDdhUr5",
        "outputId": "988d1c22-b5c9-4662-c48c-411716522ee6"
      },
      "execution_count": 6,
      "outputs": [
        {
          "output_type": "stream",
          "name": "stdout",
          "text": [
            "[2, 3]\n"
          ]
        }
      ]
    },
    {
      "cell_type": "code",
      "source": [
        "def fun():\n",
        "  for x in range(20,23,30):\n",
        "    print(x)\n",
        "\n",
        "fun()"
      ],
      "metadata": {
        "colab": {
          "base_uri": "https://localhost:8080/"
        },
        "id": "qb7H0zo3idOL",
        "outputId": "973053af-5795-42c2-eeca-f91765248dca"
      },
      "execution_count": 7,
      "outputs": [
        {
          "output_type": "stream",
          "name": "stdout",
          "text": [
            "20\n"
          ]
        }
      ]
    },
    {
      "cell_type": "code",
      "source": [
        "s=['apple', 'tomato','Apple', 'watermelon']\n",
        "s.sort(key=len)\n",
        "print(s)"
      ],
      "metadata": {
        "colab": {
          "base_uri": "https://localhost:8080/"
        },
        "id": "nnX2ftd5lOLt",
        "outputId": "72d7cc4d-873e-434d-bffc-7159feff008c"
      },
      "execution_count": 8,
      "outputs": [
        {
          "output_type": "stream",
          "name": "stdout",
          "text": [
            "['apple', 'Apple', 'tomato', 'watermelon']\n"
          ]
        }
      ]
    },
    {
      "cell_type": "code",
      "source": [
        "## Write a function that takes a list as input and return a sorted list according to the lenght\n",
        "def sort_list(l):\n",
        "  l.sort(key=len)\n",
        "  return l\n",
        "sort_list(['apple', 'tomato','Apple', 'watermelon'])"
      ],
      "metadata": {
        "colab": {
          "base_uri": "https://localhost:8080/"
        },
        "id": "De43wmFFlfYB",
        "outputId": "7fe6e3ec-e318-4f2a-89b0-0e007d813a34"
      },
      "execution_count": 10,
      "outputs": [
        {
          "output_type": "execute_result",
          "data": {
            "text/plain": [
              "['apple', 'Apple', 'tomato', 'watermelon']"
            ]
          },
          "metadata": {},
          "execution_count": 10
        }
      ]
    },
    {
      "cell_type": "code",
      "source": [
        "a = lambda x:x+2\n",
        "print(a(20))"
      ],
      "metadata": {
        "colab": {
          "base_uri": "https://localhost:8080/"
        },
        "id": "o_eKNIncok9g",
        "outputId": "a2ef830d-7780-443a-95c0-8f0e50f50d0f"
      },
      "execution_count": 16,
      "outputs": [
        {
          "output_type": "stream",
          "name": "stdout",
          "text": [
            "22\n"
          ]
        }
      ]
    },
    {
      "cell_type": "code",
      "source": [
        "t =  lambda x:x%10==0\n",
        "print(t(23))\n",
        "print(t(90))"
      ],
      "metadata": {
        "colab": {
          "base_uri": "https://localhost:8080/"
        },
        "id": "VjDIcIe1sAoz",
        "outputId": "98aef18b-68c7-4221-a4d6-5781912001ce"
      },
      "execution_count": 18,
      "outputs": [
        {
          "output_type": "stream",
          "name": "stdout",
          "text": [
            "False\n",
            "True\n"
          ]
        }
      ]
    },
    {
      "cell_type": "code",
      "source": [
        "greeting = lambda x: 'Greetings'\n",
        "\n",
        "print(greeting(8))"
      ],
      "metadata": {
        "colab": {
          "base_uri": "https://localhost:8080/"
        },
        "id": "pc0l7zvhtYAu",
        "outputId": "d5e4fcb0-4e78-4079-95fd-9d7843971444"
      },
      "execution_count": 21,
      "outputs": [
        {
          "output_type": "stream",
          "name": "stdout",
          "text": [
            "Greetings\n"
          ]
        }
      ]
    },
    {
      "cell_type": "code",
      "source": [
        "##lambda with two arguments\n",
        "a = lambda x,y: x*y\n",
        "z = lambda x,y:x**y\n",
        "\n",
        "print(a(2,3))\n",
        "print(z(2,3))"
      ],
      "metadata": {
        "colab": {
          "base_uri": "https://localhost:8080/"
        },
        "id": "SRHRbXlYvkFl",
        "outputId": "48781aab-aa0d-4fbc-f2aa-4923cb064a8d"
      },
      "execution_count": 24,
      "outputs": [
        {
          "output_type": "stream",
          "name": "stdout",
          "text": [
            "6\n",
            "8\n"
          ]
        }
      ]
    },
    {
      "cell_type": "code",
      "source": [
        "#.sort() with lambda\n",
        "#.sort() is a list method that sorts the list’s elements directly.\n",
        "#.sort() is used with “key=” keyword. \n",
        "\n",
        "lst = [1, 5, 66, 7,3,99]\n",
        "lst.sort(key=lambda x: x)\n",
        "print(lst)\n",
        "\n",
        "#It basically says, sort based on each element’s value, which is the default tendency of .sort() function."
      ],
      "metadata": {
        "colab": {
          "base_uri": "https://localhost:8080/"
        },
        "id": "4yw9Wm3qxCC9",
        "outputId": "1335a4b8-359a-464a-b91d-b1ef949c2780"
      },
      "execution_count": 26,
      "outputs": [
        {
          "output_type": "stream",
          "name": "stdout",
          "text": [
            "[1, 3, 5, 7, 66, 99]\n"
          ]
        }
      ]
    },
    {
      "cell_type": "code",
      "source": [
        "# sorted() with lambda:\n",
        "# sorted() is not a method but a builtin function. It’s main difference from .sort() method is that it won’t change the original list it will simply output a new list\n",
        "\n",
        "lst = [1, 5, 66, 76, 6]\n",
        "lst_sorted = sorted(lst, key=lambda x: x)\n",
        "lst_sorted"
      ],
      "metadata": {
        "colab": {
          "base_uri": "https://localhost:8080/"
        },
        "id": "fBXzqC0OyOVQ",
        "outputId": "da0052f3-aade-4518-b752-1a993f12b80e"
      },
      "execution_count": 28,
      "outputs": [
        {
          "output_type": "execute_result",
          "data": {
            "text/plain": [
              "[1, 5, 6, 66, 76]"
            ]
          },
          "metadata": {},
          "execution_count": 28
        }
      ]
    },
    {
      "cell_type": "code",
      "source": [
        "## map() with lambda:\n",
        "# map() is a useful function that maps all the list items to a desired output.\n",
        "\n",
        "lst = [1, 5, 66, 7,99,6]\n",
        "lst_mapped = map(lambda x: x+10, lst)# add 20 to each elt in the list\n",
        "print(list(lst_mapped))"
      ],
      "metadata": {
        "colab": {
          "base_uri": "https://localhost:8080/"
        },
        "id": "KdnbZVG8z1cc",
        "outputId": "34c59dc9-0b18-4e57-c708-01d7fe8ffb55"
      },
      "execution_count": 30,
      "outputs": [
        {
          "output_type": "stream",
          "name": "stdout",
          "text": [
            "[11, 15, 76, 17, 109, 16]\n"
          ]
        }
      ]
    },
    {
      "cell_type": "code",
      "source": [
        "## filter() with lambda:\n",
        "# Another function that works well with lambda is filter(). It is also similar to the map() function syntax wise.\n",
        "\n",
        "lst_filtered = filter(lambda x: x>5, lst)\n",
        "print(list(lst_filtered))"
      ],
      "metadata": {
        "colab": {
          "base_uri": "https://localhost:8080/"
        },
        "id": "NP1KZEnm0ZN9",
        "outputId": "d56bd6e0-8c2a-46dd-b66d-71d39c50ddb6"
      },
      "execution_count": 31,
      "outputs": [
        {
          "output_type": "stream",
          "name": "stdout",
          "text": [
            "[66, 7, 99, 6]\n"
          ]
        }
      ]
    },
    {
      "cell_type": "code",
      "source": [
        "## Lambda with if\n",
        "## if statement in lambda\n",
        "\n",
        "a = lambda x: print('Aloha!') if x=='Hawaii' else print('Ciao!')\n",
        "print('Hawaii')\n",
        "print('London')"
      ],
      "metadata": {
        "colab": {
          "base_uri": "https://localhost:8080/"
        },
        "id": "p45zvCqX09bR",
        "outputId": "d61026fd-49f5-4bc3-cfee-52c45559e0b8"
      },
      "execution_count": 33,
      "outputs": [
        {
          "output_type": "stream",
          "name": "stdout",
          "text": [
            "Hawaii\n",
            "London\n"
          ]
        }
      ]
    },
    {
      "cell_type": "code",
      "source": [
        "## Lambda with nested if\n",
        "\n",
        "a = lambda x: print('Africa!') if x=='Cameroon' else (print('Salut') if x=='Paris' else print('Hi'))\n",
        "\n",
        "print(a('Cameroon'))\n",
        "print(a('Paris'))\n",
        "print(a('London'))"
      ],
      "metadata": {
        "colab": {
          "base_uri": "https://localhost:8080/"
        },
        "id": "lG_Y_moi1im_",
        "outputId": "16145874-e134-4137-fc28-8daeabaa1f5e"
      },
      "execution_count": 40,
      "outputs": [
        {
          "output_type": "stream",
          "name": "stdout",
          "text": [
            "Africa!\n",
            "None\n",
            "Salut\n",
            "None\n",
            "Hi\n",
            "None\n"
          ]
        }
      ]
    },
    {
      "cell_type": "code",
      "source": [
        "##month of the year\n",
        "import calendar\n",
        "\n",
        "lst=[1,2,3,4,5,6,7,4,3,2,5,11, 12]\n",
        "lst = map(lambda x: calendar.month_name[x], lst)\n",
        "print(list(lst))"
      ],
      "metadata": {
        "colab": {
          "base_uri": "https://localhost:8080/"
        },
        "id": "IwB3bX_Y2GN_",
        "outputId": "90f685ef-81f3-4e61-8e3a-14e319f4ee2d"
      },
      "execution_count": 43,
      "outputs": [
        {
          "output_type": "stream",
          "name": "stdout",
          "text": [
            "['January', 'February', 'March', 'April', 'May', 'June', 'July', 'April', 'March', 'February', 'May', 'November', 'December']\n"
          ]
        }
      ]
    }
  ]
}